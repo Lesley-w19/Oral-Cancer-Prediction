{
 "cells": [
  {
   "cell_type": "markdown",
   "metadata": {},
   "source": [
    "DATA AQUISITION GROUP PROJECT\n",
    "\n",
    "GROUP MEMBERS\n"
   ]
  },
  {
   "cell_type": "code",
   "execution_count": 46,
   "metadata": {},
   "outputs": [],
   "source": [
    "# import all libraries\n",
    "\n",
    "import pandas as pd\n",
    "import numpy as np\n",
    "import seaborn as sns\n",
    "import matplotlib.pyplot as plt\n",
    "import matplotlib.pyplot as plt\n",
    "import scipy.stats as stats\n",
    "# from lifelines import KaplanMeierFitter\n"
   ]
  },
  {
   "cell_type": "code",
   "execution_count": 47,
   "metadata": {},
   "outputs": [
    {
     "data": {
      "text/html": [
       "<div>\n",
       "<style scoped>\n",
       "    .dataframe tbody tr th:only-of-type {\n",
       "        vertical-align: middle;\n",
       "    }\n",
       "\n",
       "    .dataframe tbody tr th {\n",
       "        vertical-align: top;\n",
       "    }\n",
       "\n",
       "    .dataframe thead th {\n",
       "        text-align: right;\n",
       "    }\n",
       "</style>\n",
       "<table border=\"1\" class=\"dataframe\">\n",
       "  <thead>\n",
       "    <tr style=\"text-align: right;\">\n",
       "      <th></th>\n",
       "      <th>ID</th>\n",
       "      <th>Country</th>\n",
       "      <th>Age</th>\n",
       "      <th>Gender</th>\n",
       "      <th>Tobacco Use</th>\n",
       "      <th>Alcohol Consumption</th>\n",
       "      <th>HPV Infection</th>\n",
       "      <th>Betel Quid Use</th>\n",
       "      <th>Chronic Sun Exposure</th>\n",
       "      <th>Poor Oral Hygiene</th>\n",
       "      <th>...</th>\n",
       "      <th>Difficulty Swallowing</th>\n",
       "      <th>White or Red Patches in Mouth</th>\n",
       "      <th>Tumor Size (cm)</th>\n",
       "      <th>Cancer Stage</th>\n",
       "      <th>Treatment Type</th>\n",
       "      <th>Survival Rate (5-Year, %)</th>\n",
       "      <th>Cost of Treatment (USD)</th>\n",
       "      <th>Economic Burden (Lost Workdays per Year)</th>\n",
       "      <th>Early Diagnosis</th>\n",
       "      <th>Oral Cancer (Diagnosis)</th>\n",
       "    </tr>\n",
       "  </thead>\n",
       "  <tbody>\n",
       "    <tr>\n",
       "      <th>0</th>\n",
       "      <td>1</td>\n",
       "      <td>Italy</td>\n",
       "      <td>36</td>\n",
       "      <td>Female</td>\n",
       "      <td>Yes</td>\n",
       "      <td>Yes</td>\n",
       "      <td>Yes</td>\n",
       "      <td>No</td>\n",
       "      <td>No</td>\n",
       "      <td>Yes</td>\n",
       "      <td>...</td>\n",
       "      <td>No</td>\n",
       "      <td>No</td>\n",
       "      <td>0.000000</td>\n",
       "      <td>0</td>\n",
       "      <td>No Treatment</td>\n",
       "      <td>100.000000</td>\n",
       "      <td>0.00</td>\n",
       "      <td>0</td>\n",
       "      <td>No</td>\n",
       "      <td>No</td>\n",
       "    </tr>\n",
       "    <tr>\n",
       "      <th>1</th>\n",
       "      <td>2</td>\n",
       "      <td>Japan</td>\n",
       "      <td>64</td>\n",
       "      <td>Male</td>\n",
       "      <td>Yes</td>\n",
       "      <td>Yes</td>\n",
       "      <td>Yes</td>\n",
       "      <td>No</td>\n",
       "      <td>Yes</td>\n",
       "      <td>Yes</td>\n",
       "      <td>...</td>\n",
       "      <td>No</td>\n",
       "      <td>No</td>\n",
       "      <td>1.782186</td>\n",
       "      <td>1</td>\n",
       "      <td>No Treatment</td>\n",
       "      <td>83.340103</td>\n",
       "      <td>77772.50</td>\n",
       "      <td>177</td>\n",
       "      <td>No</td>\n",
       "      <td>Yes</td>\n",
       "    </tr>\n",
       "    <tr>\n",
       "      <th>2</th>\n",
       "      <td>3</td>\n",
       "      <td>UK</td>\n",
       "      <td>37</td>\n",
       "      <td>Female</td>\n",
       "      <td>No</td>\n",
       "      <td>Yes</td>\n",
       "      <td>No</td>\n",
       "      <td>No</td>\n",
       "      <td>Yes</td>\n",
       "      <td>Yes</td>\n",
       "      <td>...</td>\n",
       "      <td>No</td>\n",
       "      <td>Yes</td>\n",
       "      <td>3.523895</td>\n",
       "      <td>2</td>\n",
       "      <td>Surgery</td>\n",
       "      <td>63.222871</td>\n",
       "      <td>101164.50</td>\n",
       "      <td>130</td>\n",
       "      <td>Yes</td>\n",
       "      <td>Yes</td>\n",
       "    </tr>\n",
       "    <tr>\n",
       "      <th>3</th>\n",
       "      <td>4</td>\n",
       "      <td>Sri Lanka</td>\n",
       "      <td>55</td>\n",
       "      <td>Male</td>\n",
       "      <td>Yes</td>\n",
       "      <td>Yes</td>\n",
       "      <td>No</td>\n",
       "      <td>Yes</td>\n",
       "      <td>No</td>\n",
       "      <td>Yes</td>\n",
       "      <td>...</td>\n",
       "      <td>No</td>\n",
       "      <td>No</td>\n",
       "      <td>0.000000</td>\n",
       "      <td>0</td>\n",
       "      <td>No Treatment</td>\n",
       "      <td>100.000000</td>\n",
       "      <td>0.00</td>\n",
       "      <td>0</td>\n",
       "      <td>Yes</td>\n",
       "      <td>No</td>\n",
       "    </tr>\n",
       "    <tr>\n",
       "      <th>4</th>\n",
       "      <td>5</td>\n",
       "      <td>South Africa</td>\n",
       "      <td>68</td>\n",
       "      <td>Male</td>\n",
       "      <td>No</td>\n",
       "      <td>No</td>\n",
       "      <td>No</td>\n",
       "      <td>No</td>\n",
       "      <td>No</td>\n",
       "      <td>Yes</td>\n",
       "      <td>...</td>\n",
       "      <td>No</td>\n",
       "      <td>No</td>\n",
       "      <td>2.834789</td>\n",
       "      <td>3</td>\n",
       "      <td>No Treatment</td>\n",
       "      <td>44.293199</td>\n",
       "      <td>45354.75</td>\n",
       "      <td>52</td>\n",
       "      <td>No</td>\n",
       "      <td>Yes</td>\n",
       "    </tr>\n",
       "  </tbody>\n",
       "</table>\n",
       "<p>5 rows × 25 columns</p>\n",
       "</div>"
      ],
      "text/plain": [
       "   ID       Country  Age  Gender Tobacco Use Alcohol Consumption  \\\n",
       "0   1         Italy   36  Female         Yes                 Yes   \n",
       "1   2         Japan   64    Male         Yes                 Yes   \n",
       "2   3            UK   37  Female          No                 Yes   \n",
       "3   4     Sri Lanka   55    Male         Yes                 Yes   \n",
       "4   5  South Africa   68    Male          No                  No   \n",
       "\n",
       "  HPV Infection Betel Quid Use Chronic Sun Exposure Poor Oral Hygiene  ...  \\\n",
       "0           Yes             No                   No               Yes  ...   \n",
       "1           Yes             No                  Yes               Yes  ...   \n",
       "2            No             No                  Yes               Yes  ...   \n",
       "3            No            Yes                   No               Yes  ...   \n",
       "4            No             No                   No               Yes  ...   \n",
       "\n",
       "  Difficulty Swallowing White or Red Patches in Mouth Tumor Size (cm)  \\\n",
       "0                    No                            No        0.000000   \n",
       "1                    No                            No        1.782186   \n",
       "2                    No                           Yes        3.523895   \n",
       "3                    No                            No        0.000000   \n",
       "4                    No                            No        2.834789   \n",
       "\n",
       "  Cancer Stage Treatment Type Survival Rate (5-Year, %)  \\\n",
       "0            0   No Treatment                100.000000   \n",
       "1            1   No Treatment                 83.340103   \n",
       "2            2        Surgery                 63.222871   \n",
       "3            0   No Treatment                100.000000   \n",
       "4            3   No Treatment                 44.293199   \n",
       "\n",
       "  Cost of Treatment (USD)  Economic Burden (Lost Workdays per Year)  \\\n",
       "0                    0.00                                         0   \n",
       "1                77772.50                                       177   \n",
       "2               101164.50                                       130   \n",
       "3                    0.00                                         0   \n",
       "4                45354.75                                        52   \n",
       "\n",
       "   Early Diagnosis Oral Cancer (Diagnosis)  \n",
       "0               No                      No  \n",
       "1               No                     Yes  \n",
       "2              Yes                     Yes  \n",
       "3              Yes                      No  \n",
       "4               No                     Yes  \n",
       "\n",
       "[5 rows x 25 columns]"
      ]
     },
     "execution_count": 47,
     "metadata": {},
     "output_type": "execute_result"
    }
   ],
   "source": [
    "oral_cancer_df = pd.read_csv('oral_cancer_prediction_dataset.csv', )\n",
    "\n",
    "oral_cancer_df.head()"
   ]
  },
  {
   "cell_type": "markdown",
   "metadata": {},
   "source": [
    "### 1. Data Cleaning"
   ]
  },
  {
   "cell_type": "markdown",
   "metadata": {},
   "source": [
    "#### Data Overview"
   ]
  },
  {
   "cell_type": "code",
   "execution_count": 48,
   "metadata": {},
   "outputs": [
    {
     "data": {
      "text/plain": [
       "(84922, 25)"
      ]
     },
     "execution_count": 48,
     "metadata": {},
     "output_type": "execute_result"
    }
   ],
   "source": [
    "oral_cancer_df.shape"
   ]
  },
  {
   "cell_type": "code",
   "execution_count": 49,
   "metadata": {},
   "outputs": [
    {
     "data": {
      "text/html": [
       "<div>\n",
       "<style scoped>\n",
       "    .dataframe tbody tr th:only-of-type {\n",
       "        vertical-align: middle;\n",
       "    }\n",
       "\n",
       "    .dataframe tbody tr th {\n",
       "        vertical-align: top;\n",
       "    }\n",
       "\n",
       "    .dataframe thead th {\n",
       "        text-align: right;\n",
       "    }\n",
       "</style>\n",
       "<table border=\"1\" class=\"dataframe\">\n",
       "  <thead>\n",
       "    <tr style=\"text-align: right;\">\n",
       "      <th></th>\n",
       "      <th>ID</th>\n",
       "      <th>Age</th>\n",
       "      <th>Tumor Size (cm)</th>\n",
       "      <th>Cancer Stage</th>\n",
       "      <th>Survival Rate (5-Year, %)</th>\n",
       "      <th>Cost of Treatment (USD)</th>\n",
       "      <th>Economic Burden (Lost Workdays per Year)</th>\n",
       "    </tr>\n",
       "  </thead>\n",
       "  <tbody>\n",
       "    <tr>\n",
       "      <th>count</th>\n",
       "      <td>84922.000000</td>\n",
       "      <td>84922.000000</td>\n",
       "      <td>84922.000000</td>\n",
       "      <td>84922.000000</td>\n",
       "      <td>84922.000000</td>\n",
       "      <td>84922.000000</td>\n",
       "      <td>84922.000000</td>\n",
       "    </tr>\n",
       "    <tr>\n",
       "      <th>mean</th>\n",
       "      <td>42461.500000</td>\n",
       "      <td>54.509444</td>\n",
       "      <td>1.747294</td>\n",
       "      <td>1.118756</td>\n",
       "      <td>79.503364</td>\n",
       "      <td>39109.881244</td>\n",
       "      <td>52.028391</td>\n",
       "    </tr>\n",
       "    <tr>\n",
       "      <th>std</th>\n",
       "      <td>24515.014117</td>\n",
       "      <td>10.014839</td>\n",
       "      <td>2.028199</td>\n",
       "      <td>1.340418</td>\n",
       "      <td>26.483746</td>\n",
       "      <td>44710.687054</td>\n",
       "      <td>60.389796</td>\n",
       "    </tr>\n",
       "    <tr>\n",
       "      <th>min</th>\n",
       "      <td>1.000000</td>\n",
       "      <td>15.000000</td>\n",
       "      <td>0.000000</td>\n",
       "      <td>0.000000</td>\n",
       "      <td>10.000750</td>\n",
       "      <td>0.000000</td>\n",
       "      <td>0.000000</td>\n",
       "    </tr>\n",
       "    <tr>\n",
       "      <th>25%</th>\n",
       "      <td>21231.250000</td>\n",
       "      <td>48.000000</td>\n",
       "      <td>0.000000</td>\n",
       "      <td>0.000000</td>\n",
       "      <td>65.233425</td>\n",
       "      <td>0.000000</td>\n",
       "      <td>0.000000</td>\n",
       "    </tr>\n",
       "    <tr>\n",
       "      <th>50%</th>\n",
       "      <td>42461.500000</td>\n",
       "      <td>55.000000</td>\n",
       "      <td>0.000000</td>\n",
       "      <td>0.000000</td>\n",
       "      <td>100.000000</td>\n",
       "      <td>0.000000</td>\n",
       "      <td>0.000000</td>\n",
       "    </tr>\n",
       "    <tr>\n",
       "      <th>75%</th>\n",
       "      <td>63691.750000</td>\n",
       "      <td>61.000000</td>\n",
       "      <td>3.480075</td>\n",
       "      <td>2.000000</td>\n",
       "      <td>100.000000</td>\n",
       "      <td>76468.437500</td>\n",
       "      <td>104.000000</td>\n",
       "    </tr>\n",
       "    <tr>\n",
       "      <th>max</th>\n",
       "      <td>84922.000000</td>\n",
       "      <td>101.000000</td>\n",
       "      <td>5.999899</td>\n",
       "      <td>4.000000</td>\n",
       "      <td>100.000000</td>\n",
       "      <td>159988.000000</td>\n",
       "      <td>179.000000</td>\n",
       "    </tr>\n",
       "  </tbody>\n",
       "</table>\n",
       "</div>"
      ],
      "text/plain": [
       "                 ID           Age  Tumor Size (cm)  Cancer Stage  \\\n",
       "count  84922.000000  84922.000000     84922.000000  84922.000000   \n",
       "mean   42461.500000     54.509444         1.747294      1.118756   \n",
       "std    24515.014117     10.014839         2.028199      1.340418   \n",
       "min        1.000000     15.000000         0.000000      0.000000   \n",
       "25%    21231.250000     48.000000         0.000000      0.000000   \n",
       "50%    42461.500000     55.000000         0.000000      0.000000   \n",
       "75%    63691.750000     61.000000         3.480075      2.000000   \n",
       "max    84922.000000    101.000000         5.999899      4.000000   \n",
       "\n",
       "       Survival Rate (5-Year, %)  Cost of Treatment (USD)  \\\n",
       "count               84922.000000             84922.000000   \n",
       "mean                   79.503364             39109.881244   \n",
       "std                    26.483746             44710.687054   \n",
       "min                    10.000750                 0.000000   \n",
       "25%                    65.233425                 0.000000   \n",
       "50%                   100.000000                 0.000000   \n",
       "75%                   100.000000             76468.437500   \n",
       "max                   100.000000            159988.000000   \n",
       "\n",
       "       Economic Burden (Lost Workdays per Year)  \n",
       "count                              84922.000000  \n",
       "mean                                  52.028391  \n",
       "std                                   60.389796  \n",
       "min                                    0.000000  \n",
       "25%                                    0.000000  \n",
       "50%                                    0.000000  \n",
       "75%                                  104.000000  \n",
       "max                                  179.000000  "
      ]
     },
     "execution_count": 49,
     "metadata": {},
     "output_type": "execute_result"
    }
   ],
   "source": [
    "oral_cancer_df.describe()"
   ]
  },
  {
   "cell_type": "code",
   "execution_count": 50,
   "metadata": {},
   "outputs": [
    {
     "name": "stdout",
     "output_type": "stream",
     "text": [
      "<class 'pandas.core.frame.DataFrame'>\n",
      "RangeIndex: 84922 entries, 0 to 84921\n",
      "Data columns (total 25 columns):\n",
      " #   Column                                    Non-Null Count  Dtype  \n",
      "---  ------                                    --------------  -----  \n",
      " 0   ID                                        84922 non-null  int64  \n",
      " 1   Country                                   84922 non-null  object \n",
      " 2   Age                                       84922 non-null  int64  \n",
      " 3   Gender                                    84922 non-null  object \n",
      " 4   Tobacco Use                               84922 non-null  object \n",
      " 5   Alcohol Consumption                       84922 non-null  object \n",
      " 6   HPV Infection                             84922 non-null  object \n",
      " 7   Betel Quid Use                            84922 non-null  object \n",
      " 8   Chronic Sun Exposure                      84922 non-null  object \n",
      " 9   Poor Oral Hygiene                         84922 non-null  object \n",
      " 10  Diet (Fruits & Vegetables Intake)         84922 non-null  object \n",
      " 11  Family History of Cancer                  84922 non-null  object \n",
      " 12  Compromised Immune System                 84922 non-null  object \n",
      " 13  Oral Lesions                              84922 non-null  object \n",
      " 14  Unexplained Bleeding                      84922 non-null  object \n",
      " 15  Difficulty Swallowing                     84922 non-null  object \n",
      " 16  White or Red Patches in Mouth             84922 non-null  object \n",
      " 17  Tumor Size (cm)                           84922 non-null  float64\n",
      " 18  Cancer Stage                              84922 non-null  int64  \n",
      " 19  Treatment Type                            84922 non-null  object \n",
      " 20  Survival Rate (5-Year, %)                 84922 non-null  float64\n",
      " 21  Cost of Treatment (USD)                   84922 non-null  float64\n",
      " 22  Economic Burden (Lost Workdays per Year)  84922 non-null  int64  \n",
      " 23  Early Diagnosis                           84922 non-null  object \n",
      " 24  Oral Cancer (Diagnosis)                   84922 non-null  object \n",
      "dtypes: float64(3), int64(4), object(18)\n",
      "memory usage: 16.2+ MB\n"
     ]
    }
   ],
   "source": [
    "oral_cancer_df.info()"
   ]
  },
  {
   "cell_type": "code",
   "execution_count": 51,
   "metadata": {},
   "outputs": [
    {
     "data": {
      "text/plain": [
       "Index(['ID', 'Country', 'Age', 'Gender', 'Tobacco Use', 'Alcohol Consumption',\n",
       "       'HPV Infection', 'Betel Quid Use', 'Chronic Sun Exposure',\n",
       "       'Poor Oral Hygiene', 'Diet (Fruits & Vegetables Intake)',\n",
       "       'Family History of Cancer', 'Compromised Immune System', 'Oral Lesions',\n",
       "       'Unexplained Bleeding', 'Difficulty Swallowing',\n",
       "       'White or Red Patches in Mouth', 'Tumor Size (cm)', 'Cancer Stage',\n",
       "       'Treatment Type', 'Survival Rate (5-Year, %)',\n",
       "       'Cost of Treatment (USD)', 'Economic Burden (Lost Workdays per Year)',\n",
       "       'Early Diagnosis', 'Oral Cancer (Diagnosis)'],\n",
       "      dtype='object')"
      ]
     },
     "execution_count": 51,
     "metadata": {},
     "output_type": "execute_result"
    }
   ],
   "source": [
    "oral_cancer_df.columns"
   ]
  },
  {
   "cell_type": "markdown",
   "metadata": {},
   "source": [
    "#### Check for missing values"
   ]
  },
  {
   "cell_type": "code",
   "execution_count": 52,
   "metadata": {},
   "outputs": [
    {
     "data": {
      "text/plain": [
       "ID                                          False\n",
       "Country                                     False\n",
       "Age                                         False\n",
       "Gender                                      False\n",
       "Tobacco Use                                 False\n",
       "Alcohol Consumption                         False\n",
       "HPV Infection                               False\n",
       "Betel Quid Use                              False\n",
       "Chronic Sun Exposure                        False\n",
       "Poor Oral Hygiene                           False\n",
       "Diet (Fruits & Vegetables Intake)           False\n",
       "Family History of Cancer                    False\n",
       "Compromised Immune System                   False\n",
       "Oral Lesions                                False\n",
       "Unexplained Bleeding                        False\n",
       "Difficulty Swallowing                       False\n",
       "White or Red Patches in Mouth               False\n",
       "Tumor Size (cm)                             False\n",
       "Cancer Stage                                False\n",
       "Treatment Type                              False\n",
       "Survival Rate (5-Year, %)                   False\n",
       "Cost of Treatment (USD)                     False\n",
       "Economic Burden (Lost Workdays per Year)    False\n",
       "Early Diagnosis                             False\n",
       "Oral Cancer (Diagnosis)                     False\n",
       "dtype: bool"
      ]
     },
     "execution_count": 52,
     "metadata": {},
     "output_type": "execute_result"
    }
   ],
   "source": [
    "oral_cancer_df.isnull().any()"
   ]
  },
  {
   "cell_type": "code",
   "execution_count": 53,
   "metadata": {},
   "outputs": [
    {
     "data": {
      "text/plain": [
       "ID                                          0\n",
       "Country                                     0\n",
       "Age                                         0\n",
       "Gender                                      0\n",
       "Tobacco Use                                 0\n",
       "Alcohol Consumption                         0\n",
       "HPV Infection                               0\n",
       "Betel Quid Use                              0\n",
       "Chronic Sun Exposure                        0\n",
       "Poor Oral Hygiene                           0\n",
       "Diet (Fruits & Vegetables Intake)           0\n",
       "Family History of Cancer                    0\n",
       "Compromised Immune System                   0\n",
       "Oral Lesions                                0\n",
       "Unexplained Bleeding                        0\n",
       "Difficulty Swallowing                       0\n",
       "White or Red Patches in Mouth               0\n",
       "Tumor Size (cm)                             0\n",
       "Cancer Stage                                0\n",
       "Treatment Type                              0\n",
       "Survival Rate (5-Year, %)                   0\n",
       "Cost of Treatment (USD)                     0\n",
       "Economic Burden (Lost Workdays per Year)    0\n",
       "Early Diagnosis                             0\n",
       "Oral Cancer (Diagnosis)                     0\n",
       "dtype: int64"
      ]
     },
     "execution_count": 53,
     "metadata": {},
     "output_type": "execute_result"
    }
   ],
   "source": [
    "oral_cancer_df.isnull().sum()"
   ]
  },
  {
   "cell_type": "code",
   "execution_count": 54,
   "metadata": {},
   "outputs": [
    {
     "data": {
      "text/plain": [
       "<Axes: >"
      ]
     },
     "execution_count": 54,
     "metadata": {},
     "output_type": "execute_result"
    },
    {
     "data": {
      "image/png": "[encoded data removed]",
      "text/plain": [
       "<Figure size 432x288 with 1 Axes>"
      ]
     },
     "metadata": {
      "needs_background": "light"
     },
     "output_type": "display_data"
    }
   ],
   "source": [
    "# use heatmap\n",
    "sns.heatmap(oral_cancer_df.isnull(), cbar=False)"
   ]
  },
  {
   "cell_type": "markdown",
   "metadata": {},
   "source": [
    "#### Check for duplicates"
   ]
  },
  {
   "cell_type": "code",
   "execution_count": 55,
   "metadata": {},
   "outputs": [
    {
     "data": {
      "text/plain": [
       "0"
      ]
     },
     "execution_count": 55,
     "metadata": {},
     "output_type": "execute_result"
    }
   ],
   "source": [
    "oral_cancer_df.duplicated().sum()"
   ]
  },
  {
   "cell_type": "markdown",
   "metadata": {},
   "source": [
    "#### Check for Data types"
   ]
  },
  {
   "cell_type": "code",
   "execution_count": 56,
   "metadata": {},
   "outputs": [
    {
     "data": {
      "text/plain": [
       "ID                                            int64\n",
       "Country                                      object\n",
       "Age                                           int64\n",
       "Gender                                       object\n",
       "Tobacco Use                                  object\n",
       "Alcohol Consumption                          object\n",
       "HPV Infection                                object\n",
       "Betel Quid Use                               object\n",
       "Chronic Sun Exposure                         object\n",
       "Poor Oral Hygiene                            object\n",
       "Diet (Fruits & Vegetables Intake)            object\n",
       "Family History of Cancer                     object\n",
       "Compromised Immune System                    object\n",
       "Oral Lesions                                 object\n",
       "Unexplained Bleeding                         object\n",
       "Difficulty Swallowing                        object\n",
       "White or Red Patches in Mouth                object\n",
       "Tumor Size (cm)                             float64\n",
       "Cancer Stage                                  int64\n",
       "Treatment Type                               object\n",
       "Survival Rate (5-Year, %)                   float64\n",
       "Cost of Treatment (USD)                     float64\n",
       "Economic Burden (Lost Workdays per Year)      int64\n",
       "Early Diagnosis                              object\n",
       "Oral Cancer (Diagnosis)                      object\n",
       "dtype: object"
      ]
     },
     "execution_count": 56,
     "metadata": {},
     "output_type": "execute_result"
    }
   ],
   "source": [
    "oral_cancer_df.dtypes"
   ]
  },
  {
   "cell_type": "markdown",
   "metadata": {},
   "source": [
    "#### Standardize Column names"
   ]
  },
  {
   "cell_type": "markdown",
   "metadata": {},
   "source": [
    "- Column names to lowercase"
   ]
  },
  {
   "cell_type": "code",
   "execution_count": 57,
   "metadata": {},
   "outputs": [
    {
     "data": {
      "text/plain": [
       "Index(['id', 'country', 'age', 'gender', 'tobacco_use', 'alcohol_consumption',\n",
       "       'hpv_infection', 'betel_quid_use', 'chronic_sun_exposure',\n",
       "       'poor_oral_hygiene', 'diet_(fruits_&_vegetables_intake)',\n",
       "       'family_history_of_cancer', 'compromised_immune_system', 'oral_lesions',\n",
       "       'unexplained_bleeding', 'difficulty_swallowing',\n",
       "       'white_or_red_patches_in_mouth', 'tumor_size_(cm)', 'cancer_stage',\n",
       "       'treatment_type', 'survival_rate_(5-year,_%)',\n",
       "       'cost_of_treatment_(usd)', 'economic_burden_(lost_workdays_per_year)',\n",
       "       'early_diagnosis', 'oral_cancer_(diagnosis)'],\n",
       "      dtype='object')"
      ]
     },
     "execution_count": 57,
     "metadata": {},
     "output_type": "execute_result"
    }
   ],
   "source": [
    "oral_cancer_df.columns = oral_cancer_df.columns.str.strip().str.lower().str.replace(\" \", \"_\")\n",
    "\n",
    "oral_cancer_df.columns"
   ]
  },
  {
   "cell_type": "code",
   "execution_count": 58,
   "metadata": {},
   "outputs": [
    {
     "data": {
      "text/plain": [
       "<bound method Series.unique of 0        Female\n",
       "1          Male\n",
       "2        Female\n",
       "3          Male\n",
       "4          Male\n",
       "          ...  \n",
       "84917      Male\n",
       "84918      Male\n",
       "84919      Male\n",
       "84920      Male\n",
       "84921      Male\n",
       "Name: gender, Length: 84922, dtype: object>"
      ]
     },
     "execution_count": 58,
     "metadata": {},
     "output_type": "execute_result"
    }
   ],
   "source": [
    "oral_cancer_df['gender'].unique"
   ]
  },
  {
   "cell_type": "markdown",
   "metadata": {},
   "source": [
    "- Convert float numbers correct to 3dp"
   ]
  },
  {
   "cell_type": "code",
   "execution_count": 59,
   "metadata": {},
   "outputs": [
    {
     "data": {
      "text/html": [
       "<div>\n",
       "<style scoped>\n",
       "    .dataframe tbody tr th:only-of-type {\n",
       "        vertical-align: middle;\n",
       "    }\n",
       "\n",
       "    .dataframe tbody tr th {\n",
       "        vertical-align: top;\n",
       "    }\n",
       "\n",
       "    .dataframe thead th {\n",
       "        text-align: right;\n",
       "    }\n",
       "</style>\n",
       "<table border=\"1\" class=\"dataframe\">\n",
       "  <thead>\n",
       "    <tr style=\"text-align: right;\">\n",
       "      <th></th>\n",
       "      <th>id</th>\n",
       "      <th>country</th>\n",
       "      <th>age</th>\n",
       "      <th>gender</th>\n",
       "      <th>tobacco_use</th>\n",
       "      <th>alcohol_consumption</th>\n",
       "      <th>hpv_infection</th>\n",
       "      <th>betel_quid_use</th>\n",
       "      <th>chronic_sun_exposure</th>\n",
       "      <th>poor_oral_hygiene</th>\n",
       "      <th>...</th>\n",
       "      <th>difficulty_swallowing</th>\n",
       "      <th>white_or_red_patches_in_mouth</th>\n",
       "      <th>tumor_size_(cm)</th>\n",
       "      <th>cancer_stage</th>\n",
       "      <th>treatment_type</th>\n",
       "      <th>survival_rate_(5-year,_%)</th>\n",
       "      <th>cost_of_treatment_(usd)</th>\n",
       "      <th>economic_burden_(lost_workdays_per_year)</th>\n",
       "      <th>early_diagnosis</th>\n",
       "      <th>oral_cancer_(diagnosis)</th>\n",
       "    </tr>\n",
       "  </thead>\n",
       "  <tbody>\n",
       "    <tr>\n",
       "      <th>0</th>\n",
       "      <td>1</td>\n",
       "      <td>Italy</td>\n",
       "      <td>36</td>\n",
       "      <td>Female</td>\n",
       "      <td>Yes</td>\n",
       "      <td>Yes</td>\n",
       "      <td>Yes</td>\n",
       "      <td>No</td>\n",
       "      <td>No</td>\n",
       "      <td>Yes</td>\n",
       "      <td>...</td>\n",
       "      <td>No</td>\n",
       "      <td>No</td>\n",
       "      <td>0.000000</td>\n",
       "      <td>0</td>\n",
       "      <td>No Treatment</td>\n",
       "      <td>100.000000</td>\n",
       "      <td>0.0</td>\n",
       "      <td>0</td>\n",
       "      <td>No</td>\n",
       "      <td>No</td>\n",
       "    </tr>\n",
       "    <tr>\n",
       "      <th>1</th>\n",
       "      <td>2</td>\n",
       "      <td>Japan</td>\n",
       "      <td>64</td>\n",
       "      <td>Male</td>\n",
       "      <td>Yes</td>\n",
       "      <td>Yes</td>\n",
       "      <td>Yes</td>\n",
       "      <td>No</td>\n",
       "      <td>Yes</td>\n",
       "      <td>Yes</td>\n",
       "      <td>...</td>\n",
       "      <td>No</td>\n",
       "      <td>No</td>\n",
       "      <td>1.782186</td>\n",
       "      <td>1</td>\n",
       "      <td>No Treatment</td>\n",
       "      <td>83.340103</td>\n",
       "      <td>77772.5</td>\n",
       "      <td>177</td>\n",
       "      <td>No</td>\n",
       "      <td>Yes</td>\n",
       "    </tr>\n",
       "  </tbody>\n",
       "</table>\n",
       "<p>2 rows × 25 columns</p>\n",
       "</div>"
      ],
      "text/plain": [
       "   id country  age  gender tobacco_use alcohol_consumption hpv_infection  \\\n",
       "0   1   Italy   36  Female         Yes                 Yes           Yes   \n",
       "1   2   Japan   64    Male         Yes                 Yes           Yes   \n",
       "\n",
       "  betel_quid_use chronic_sun_exposure poor_oral_hygiene  ...  \\\n",
       "0             No                   No               Yes  ...   \n",
       "1             No                  Yes               Yes  ...   \n",
       "\n",
       "  difficulty_swallowing white_or_red_patches_in_mouth tumor_size_(cm)  \\\n",
       "0                    No                            No        0.000000   \n",
       "1                    No                            No        1.782186   \n",
       "\n",
       "  cancer_stage treatment_type survival_rate_(5-year,_%)  \\\n",
       "0            0   No Treatment                100.000000   \n",
       "1            1   No Treatment                 83.340103   \n",
       "\n",
       "  cost_of_treatment_(usd)  economic_burden_(lost_workdays_per_year)  \\\n",
       "0                     0.0                                         0   \n",
       "1                 77772.5                                       177   \n",
       "\n",
       "   early_diagnosis oral_cancer_(diagnosis)  \n",
       "0               No                      No  \n",
       "1               No                     Yes  \n",
       "\n",
       "[2 rows x 25 columns]"
      ]
     },
     "execution_count": 59,
     "metadata": {},
     "output_type": "execute_result"
    }
   ],
   "source": [
    "oral_cancer_df.head(2)"
   ]
  },
  {
   "cell_type": "code",
   "execution_count": 60,
   "metadata": {},
   "outputs": [
    {
     "data": {
      "text/html": [
       "<div>\n",
       "<style scoped>\n",
       "    .dataframe tbody tr th:only-of-type {\n",
       "        vertical-align: middle;\n",
       "    }\n",
       "\n",
       "    .dataframe tbody tr th {\n",
       "        vertical-align: top;\n",
       "    }\n",
       "\n",
       "    .dataframe thead th {\n",
       "        text-align: right;\n",
       "    }\n",
       "</style>\n",
       "<table border=\"1\" class=\"dataframe\">\n",
       "  <thead>\n",
       "    <tr style=\"text-align: right;\">\n",
       "      <th></th>\n",
       "      <th>id</th>\n",
       "      <th>country</th>\n",
       "      <th>age</th>\n",
       "      <th>gender</th>\n",
       "      <th>tobacco_use</th>\n",
       "      <th>alcohol_consumption</th>\n",
       "      <th>hpv_infection</th>\n",
       "      <th>betel_quid_use</th>\n",
       "      <th>chronic_sun_exposure</th>\n",
       "      <th>poor_oral_hygiene</th>\n",
       "      <th>...</th>\n",
       "      <th>difficulty_swallowing</th>\n",
       "      <th>white_or_red_patches_in_mouth</th>\n",
       "      <th>tumor_size_(cm)</th>\n",
       "      <th>cancer_stage</th>\n",
       "      <th>treatment_type</th>\n",
       "      <th>survival_rate_(5-year,_%)</th>\n",
       "      <th>cost_of_treatment_(usd)</th>\n",
       "      <th>economic_burden_(lost_workdays_per_year)</th>\n",
       "      <th>early_diagnosis</th>\n",
       "      <th>oral_cancer_(diagnosis)</th>\n",
       "    </tr>\n",
       "  </thead>\n",
       "  <tbody>\n",
       "    <tr>\n",
       "      <th>0</th>\n",
       "      <td>1</td>\n",
       "      <td>Italy</td>\n",
       "      <td>36</td>\n",
       "      <td>Female</td>\n",
       "      <td>Yes</td>\n",
       "      <td>Yes</td>\n",
       "      <td>Yes</td>\n",
       "      <td>No</td>\n",
       "      <td>No</td>\n",
       "      <td>Yes</td>\n",
       "      <td>...</td>\n",
       "      <td>No</td>\n",
       "      <td>No</td>\n",
       "      <td>0.00</td>\n",
       "      <td>0</td>\n",
       "      <td>No Treatment</td>\n",
       "      <td>100.00</td>\n",
       "      <td>0.0</td>\n",
       "      <td>0</td>\n",
       "      <td>No</td>\n",
       "      <td>No</td>\n",
       "    </tr>\n",
       "    <tr>\n",
       "      <th>1</th>\n",
       "      <td>2</td>\n",
       "      <td>Japan</td>\n",
       "      <td>64</td>\n",
       "      <td>Male</td>\n",
       "      <td>Yes</td>\n",
       "      <td>Yes</td>\n",
       "      <td>Yes</td>\n",
       "      <td>No</td>\n",
       "      <td>Yes</td>\n",
       "      <td>Yes</td>\n",
       "      <td>...</td>\n",
       "      <td>No</td>\n",
       "      <td>No</td>\n",
       "      <td>1.78</td>\n",
       "      <td>1</td>\n",
       "      <td>No Treatment</td>\n",
       "      <td>83.34</td>\n",
       "      <td>77772.5</td>\n",
       "      <td>177</td>\n",
       "      <td>No</td>\n",
       "      <td>Yes</td>\n",
       "    </tr>\n",
       "  </tbody>\n",
       "</table>\n",
       "<p>2 rows × 25 columns</p>\n",
       "</div>"
      ],
      "text/plain": [
       "   id country  age  gender tobacco_use alcohol_consumption hpv_infection  \\\n",
       "0   1   Italy   36  Female         Yes                 Yes           Yes   \n",
       "1   2   Japan   64    Male         Yes                 Yes           Yes   \n",
       "\n",
       "  betel_quid_use chronic_sun_exposure poor_oral_hygiene  ...  \\\n",
       "0             No                   No               Yes  ...   \n",
       "1             No                  Yes               Yes  ...   \n",
       "\n",
       "  difficulty_swallowing white_or_red_patches_in_mouth tumor_size_(cm)  \\\n",
       "0                    No                            No            0.00   \n",
       "1                    No                            No            1.78   \n",
       "\n",
       "  cancer_stage treatment_type survival_rate_(5-year,_%)  \\\n",
       "0            0   No Treatment                    100.00   \n",
       "1            1   No Treatment                     83.34   \n",
       "\n",
       "  cost_of_treatment_(usd)  economic_burden_(lost_workdays_per_year)  \\\n",
       "0                     0.0                                         0   \n",
       "1                 77772.5                                       177   \n",
       "\n",
       "   early_diagnosis oral_cancer_(diagnosis)  \n",
       "0               No                      No  \n",
       "1               No                     Yes  \n",
       "\n",
       "[2 rows x 25 columns]"
      ]
     },
     "execution_count": 60,
     "metadata": {},
     "output_type": "execute_result"
    }
   ],
   "source": [
    "round_col = [\n",
    "    'tumor_size_(cm)',\n",
    "    'survival_rate_(5-year,_%)'\n",
    "    ]\n",
    "\n",
    "oral_cancer_df[round_col] = oral_cancer_df[round_col].round(2)\n",
    "\n",
    "oral_cancer_df.head(2)"
   ]
  },
  {
   "cell_type": "markdown",
   "metadata": {},
   "source": [
    "#### Handle Outliers"
   ]
  },
  {
   "cell_type": "code",
   "execution_count": 61,
   "metadata": {},
   "outputs": [],
   "source": [
    "def detect_outliers_iqr(df, column):\n",
    "    Q1 = df[column].quantile(0.25)\n",
    "    Q3 = df[column].quantile(0.75)\n",
    "    IQR = Q3 - Q1\n",
    "    lower_bound = Q1 - 1.5 * IQR\n",
    "    upper_bound = Q3 + 1.5 * IQR\n",
    "    return df[(df[column] < lower_bound) | (df[column] > upper_bound)]\n",
    "\n",
    "\n"
   ]
  },
  {
   "cell_type": "code",
   "execution_count": 62,
   "metadata": {},
   "outputs": [
    {
     "name": "stdout",
     "output_type": "stream",
     "text": [
      "Q1 48.0\n",
      "Q3 61.0\n",
      "IQR 13.0\n"
     ]
    }
   ],
   "source": [
    "Q1 = oral_cancer_df['age'].quantile(0.25)\n",
    "Q3 = oral_cancer_df['age'].quantile(0.75)\n",
    "\n",
    "IQR = Q3 - Q1\n",
    "\n",
    "\n",
    "print(\"Q1\", Q1)\n",
    "print(\"Q3\", Q3)\n",
    "print(\"IQR\", IQR)\n"
   ]
  },
  {
   "cell_type": "code",
   "execution_count": 63,
   "metadata": {},
   "outputs": [
    {
     "name": "stdout",
     "output_type": "stream",
     "text": [
      "15\n",
      "101\n"
     ]
    }
   ],
   "source": [
    "print(oral_cancer_df['age'].min())\n",
    "print(oral_cancer_df['age'].max())"
   ]
  },
  {
   "cell_type": "code",
   "execution_count": 64,
   "metadata": {},
   "outputs": [
    {
     "name": "stdout",
     "output_type": "stream",
     "text": [
      "          id    country  age  gender tobacco_use alcohol_consumption  \\\n",
      "201      202      India   28    Male         Yes                  No   \n",
      "408      409  Sri Lanka   28    Male         Yes                 Yes   \n",
      "470      471      Kenya   26  Female         Yes                  No   \n",
      "566      567     Russia   28    Male         Yes                  No   \n",
      "776      777     Taiwan   82    Male          No                 Yes   \n",
      "...      ...        ...  ...     ...         ...                 ...   \n",
      "84287  84288  Sri Lanka   83    Male         Yes                 Yes   \n",
      "84433  84434        USA   88  Female         Yes                  No   \n",
      "84480  84481      Japan   28    Male          No                  No   \n",
      "84599  84600    Germany   23    Male         Yes                 Yes   \n",
      "84711  84712   Pakistan   28    Male          No                 Yes   \n",
      "\n",
      "      hpv_infection betel_quid_use chronic_sun_exposure poor_oral_hygiene  \\\n",
      "201              No            Yes                   No                No   \n",
      "408             Yes            Yes                   No                No   \n",
      "470              No             No                   No               Yes   \n",
      "566              No             No                   No               Yes   \n",
      "776             Yes            Yes                   No               Yes   \n",
      "...             ...            ...                  ...               ...   \n",
      "84287           Yes            Yes                  Yes               Yes   \n",
      "84433            No             No                   No               Yes   \n",
      "84480            No             No                   No                No   \n",
      "84599            No             No                   No                No   \n",
      "84711           Yes            Yes                  Yes                No   \n",
      "\n",
      "       ... difficulty_swallowing white_or_red_patches_in_mouth  \\\n",
      "201    ...                    No                            No   \n",
      "408    ...                    No                           Yes   \n",
      "470    ...                    No                            No   \n",
      "566    ...                   Yes                            No   \n",
      "776    ...                    No                            No   \n",
      "...    ...                   ...                           ...   \n",
      "84287  ...                   Yes                            No   \n",
      "84433  ...                    No                            No   \n",
      "84480  ...                    No                           Yes   \n",
      "84599  ...                    No                            No   \n",
      "84711  ...                    No                           Yes   \n",
      "\n",
      "      tumor_size_(cm) cancer_stage    treatment_type  \\\n",
      "201              2.32            1  Targeted Therapy   \n",
      "408              3.60            4           Surgery   \n",
      "470              0.00            0      No Treatment   \n",
      "566              0.00            0      No Treatment   \n",
      "776              0.00            0      No Treatment   \n",
      "...               ...          ...               ...   \n",
      "84287            2.79            1           Surgery   \n",
      "84433            0.00            0      No Treatment   \n",
      "84480            0.00            0      No Treatment   \n",
      "84599            5.30            4      No Treatment   \n",
      "84711            1.55            2      Chemotherapy   \n",
      "\n",
      "      survival_rate_(5-year,_%) cost_of_treatment_(usd)  \\\n",
      "201                       88.17                59998.75   \n",
      "408                       23.55               105560.00   \n",
      "470                      100.00                    0.00   \n",
      "566                      100.00                    0.00   \n",
      "776                      100.00                    0.00   \n",
      "...                         ...                     ...   \n",
      "84287                     88.49                61797.50   \n",
      "84433                    100.00                    0.00   \n",
      "84480                    100.00                    0.00   \n",
      "84599                     17.87               135578.00   \n",
      "84711                     68.53                32794.50   \n",
      "\n",
      "       economic_burden_(lost_workdays_per_year)  early_diagnosis  \\\n",
      "201                                          45              Yes   \n",
      "408                                          40              Yes   \n",
      "470                                           0               No   \n",
      "566                                           0               No   \n",
      "776                                           0              Yes   \n",
      "...                                         ...              ...   \n",
      "84287                                        67               No   \n",
      "84433                                         0               No   \n",
      "84480                                         0              Yes   \n",
      "84599                                        42              Yes   \n",
      "84711                                       106              Yes   \n",
      "\n",
      "      oral_cancer_(diagnosis)  \n",
      "201                       Yes  \n",
      "408                       Yes  \n",
      "470                        No  \n",
      "566                        No  \n",
      "776                        No  \n",
      "...                       ...  \n",
      "84287                     Yes  \n",
      "84433                      No  \n",
      "84480                      No  \n",
      "84599                     Yes  \n",
      "84711                     Yes  \n",
      "\n",
      "[817 rows x 25 columns]\n"
     ]
    }
   ],
   "source": [
    "# Example usage\n",
    "outliers = detect_outliers_iqr(oral_cancer_df, 'age')\n",
    "print(outliers)"
   ]
  },
  {
   "cell_type": "code",
   "execution_count": 65,
   "metadata": {},
   "outputs": [
    {
     "name": "stdout",
     "output_type": "stream",
     "text": [
      "0.0\n",
      "6.0\n"
     ]
    }
   ],
   "source": [
    "print(oral_cancer_df['tumor_size_(cm)'].min())\n",
    "print(oral_cancer_df['tumor_size_(cm)'].max())"
   ]
  },
  {
   "cell_type": "code",
   "execution_count": 66,
   "metadata": {},
   "outputs": [
    {
     "data": {
      "image/png": "[encoded data removed]",
      "text/plain": [
       "<Figure size 576x360 with 1 Axes>"
      ]
     },
     "metadata": {
      "needs_background": "light"
     },
     "output_type": "display_data"
    }
   ],
   "source": [
    "plt.figure(figsize=(8, 5))\n",
    "sns.boxplot(x=oral_cancer_df[\"tumor_size_(cm)\"])\n",
    "plt.title(\"Boxplot for Tumor Size (cm)\")\n",
    "plt.show()\n"
   ]
  },
  {
   "cell_type": "code",
   "execution_count": 67,
   "metadata": {},
   "outputs": [
    {
     "name": "stdout",
     "output_type": "stream",
     "text": [
      "15\n",
      "101\n"
     ]
    }
   ],
   "source": [
    "print(oral_cancer_df['age'].min())\n",
    "print(oral_cancer_df['age'].max())"
   ]
  },
  {
   "cell_type": "code",
   "execution_count": 68,
   "metadata": {},
   "outputs": [
    {
     "data": {
      "image/png": "[encoded data removed]",
      "text/plain": [
       "<Figure size 576x360 with 1 Axes>"
      ]
     },
     "metadata": {
      "needs_background": "light"
     },
     "output_type": "display_data"
    }
   ],
   "source": [
    "plt.figure(figsize=(8, 5))\n",
    "sns.boxplot(x=oral_cancer_df[\"age\"])\n",
    "plt.title(\"Boxplot for Age\")\n",
    "plt.show()"
   ]
  },
  {
   "cell_type": "code",
   "execution_count": 69,
   "metadata": {},
   "outputs": [
    {
     "name": "stdout",
     "output_type": "stream",
     "text": [
      "0.0\n",
      "159988.0\n"
     ]
    }
   ],
   "source": [
    "print(oral_cancer_df['cost_of_treatment_(usd)'].min())\n",
    "print(oral_cancer_df['cost_of_treatment_(usd)'].max())"
   ]
  },
  {
   "cell_type": "code",
   "execution_count": 70,
   "metadata": {},
   "outputs": [
    {
     "data": {
      "image/png": "[encoded data removed]",
      "text/plain": [
       "<Figure size 576x360 with 1 Axes>"
      ]
     },
     "metadata": {
      "needs_background": "light"
     },
     "output_type": "display_data"
    }
   ],
   "source": [
    "plt.figure(figsize=(8, 5))\n",
    "sns.boxplot(x=oral_cancer_df[\"cost_of_treatment_(usd)\"])\n",
    "plt.title(\"Boxplot for cost_of_treatment_(usd)\")\n",
    "plt.show()"
   ]
  },
  {
   "cell_type": "markdown",
   "metadata": {},
   "source": [
    "### *How Do Early Diagnosis and Treatment Type Impact Survival Rates and Economic Burden Among Oral Cancer Patients?*\n",
    "\n",
    "This research question aims to analyze how diagnosing oral cancer at an early stage, along with the chosen treatment approach, influences *survival rates* and *economic costs* for patients.\n",
    "\n",
    "I should consider, early_diagnosis, survival_rate, economic burden, cost of treatment as major fields"
   ]
  },
  {
   "cell_type": "code",
   "execution_count": 71,
   "metadata": {},
   "outputs": [],
   "source": [
    "# rename columns\n",
    "\n",
    "oral_cancer_df = oral_cancer_df.rename(columns={\n",
    "    'tumor_size_(cm)': 'tumor_size',\n",
    "    'survival_rate_(5-year,_%)': 'survival_rate',\n",
    "    'cost_of_treatment_(usd)': 'cost_of_treatment',\n",
    "    'economic_burden_(lost_workdays_per_year)':'economic_burden',\n",
    "    'oral_cancer_(diagnosis)': 'diagnosis'\n",
    "})\n",
    "\n",
    "# oral_cancer_df.head(2)"
   ]
  },
  {
   "cell_type": "markdown",
   "metadata": {},
   "source": [
    "#### Summary Statistics"
   ]
  },
  {
   "cell_type": "code",
   "execution_count": 72,
   "metadata": {},
   "outputs": [
    {
     "name": "stdout",
     "output_type": "stream",
     "text": [
      "Summary Statistics:\n",
      "       survival_rate  cost_of_treatment  economic_burden\n",
      "count   84922.000000       84922.000000     84922.000000\n",
      "mean       79.503359       39109.881244        52.028391\n",
      "std        26.483742       44710.687054        60.389796\n",
      "min        10.000000           0.000000         0.000000\n",
      "25%        65.230000           0.000000         0.000000\n",
      "50%       100.000000           0.000000         0.000000\n",
      "75%       100.000000       76468.437500       104.000000\n",
      "max       100.000000      159988.000000       179.000000\n"
     ]
    }
   ],
   "source": [
    "\n",
    "print(\"Summary Statistics:\")\n",
    "oral_cancer_statistics = oral_cancer_df[['survival_rate', 'cost_of_treatment', 'economic_burden']].describe()\n",
    "print(oral_cancer_statistics)"
   ]
  },
  {
   "cell_type": "markdown",
   "metadata": {},
   "source": [
    "` From the above statisitcs:`\n",
    "\n",
    "- The mean survival rate is 79.5%, this indicates that most patients have a high chance of survival.\n",
    "\n",
    "- On average, patients lose 52 workdays per year due to oral cancer.\n",
    "\n",
    "- Some patients (25%) lose no workdays and incurred zero treatment costs, , possibly due to early diagnosis\n",
    "\n",
    "##### - There is a Link Between Cancer Stage and Economic Impact such that:\n",
    "\n",
    "- Patients with higher treatment costs also have more lost workdays.\n",
    "\n",
    "- Those who are diagnosed early tend to have lower costs and minimal economic burden."
   ]
  },
  {
   "cell_type": "code",
   "execution_count": 73,
   "metadata": {},
   "outputs": [
    {
     "data": {
      "text/plain": [
       "Index(['id', 'country', 'age', 'gender', 'tobacco_use', 'alcohol_consumption',\n",
       "       'hpv_infection', 'betel_quid_use', 'chronic_sun_exposure',\n",
       "       'poor_oral_hygiene', 'diet_(fruits_&_vegetables_intake)',\n",
       "       'family_history_of_cancer', 'compromised_immune_system', 'oral_lesions',\n",
       "       'unexplained_bleeding', 'difficulty_swallowing',\n",
       "       'white_or_red_patches_in_mouth', 'tumor_size', 'cancer_stage',\n",
       "       'treatment_type', 'survival_rate', 'cost_of_treatment',\n",
       "       'economic_burden', 'early_diagnosis', 'diagnosis'],\n",
       "      dtype='object')"
      ]
     },
     "execution_count": 73,
     "metadata": {},
     "output_type": "execute_result"
    }
   ],
   "source": [
    "oral_cancer_df.columns"
   ]
  },
  {
   "cell_type": "markdown",
   "metadata": {},
   "source": [
    "#### Group-by Analysis"
   ]
  },
  {
   "cell_type": "code",
   "execution_count": 74,
   "metadata": {},
   "outputs": [
    {
     "name": "stdout",
     "output_type": "stream",
     "text": [
      "\n",
      "Average Survival Rate by Diagnosis Stage:\n",
      "cancer_stage\n",
      "0    100.000000\n",
      "1     84.984447\n",
      "2     67.469977\n",
      "3     39.957052\n",
      "4     20.081187\n",
      "Name: survival_rate, dtype: float64\n"
     ]
    }
   ],
   "source": [
    "print(\"\\nAverage Survival Rate by Diagnosis Stage:\")\n",
    "survival_rate = oral_cancer_df.groupby(\"cancer_stage\")[\"survival_rate\"].mean()\n",
    "\n",
    "print(survival_rate)\n"
   ]
  },
  {
   "cell_type": "code",
   "execution_count": 75,
   "metadata": {},
   "outputs": [
    {
     "name": "stdout",
     "output_type": "stream",
     "text": [
      "\n",
      "Tumor Size & Cost of Treatment by Treatment Type:\n"
     ]
    },
    {
     "data": {
      "text/html": [
       "<div>\n",
       "<style scoped>\n",
       "    .dataframe tbody tr th:only-of-type {\n",
       "        vertical-align: middle;\n",
       "    }\n",
       "\n",
       "    .dataframe tbody tr th {\n",
       "        vertical-align: top;\n",
       "    }\n",
       "\n",
       "    .dataframe thead th {\n",
       "        text-align: right;\n",
       "    }\n",
       "</style>\n",
       "<table border=\"1\" class=\"dataframe\">\n",
       "  <thead>\n",
       "    <tr style=\"text-align: right;\">\n",
       "      <th></th>\n",
       "      <th>tumor_size</th>\n",
       "      <th>cost_of_treatment</th>\n",
       "    </tr>\n",
       "    <tr>\n",
       "      <th>treatment_type</th>\n",
       "      <th></th>\n",
       "      <th></th>\n",
       "    </tr>\n",
       "  </thead>\n",
       "  <tbody>\n",
       "    <tr>\n",
       "      <th>Chemotherapy</th>\n",
       "      <td>3.516545</td>\n",
       "      <td>78136.382225</td>\n",
       "    </tr>\n",
       "    <tr>\n",
       "      <th>No Treatment</th>\n",
       "      <td>0.577721</td>\n",
       "      <td>12979.836404</td>\n",
       "    </tr>\n",
       "    <tr>\n",
       "      <th>Radiation</th>\n",
       "      <td>3.487600</td>\n",
       "      <td>78589.447723</td>\n",
       "    </tr>\n",
       "    <tr>\n",
       "      <th>Surgery</th>\n",
       "      <td>3.510754</td>\n",
       "      <td>78365.255735</td>\n",
       "    </tr>\n",
       "    <tr>\n",
       "      <th>Targeted Therapy</th>\n",
       "      <td>3.513186</td>\n",
       "      <td>78616.147549</td>\n",
       "    </tr>\n",
       "  </tbody>\n",
       "</table>\n",
       "</div>"
      ],
      "text/plain": [
       "                  tumor_size  cost_of_treatment\n",
       "treatment_type                                 \n",
       "Chemotherapy        3.516545       78136.382225\n",
       "No Treatment        0.577721       12979.836404\n",
       "Radiation           3.487600       78589.447723\n",
       "Surgery             3.510754       78365.255735\n",
       "Targeted Therapy    3.513186       78616.147549"
      ]
     },
     "execution_count": 75,
     "metadata": {},
     "output_type": "execute_result"
    }
   ],
   "source": [
    "print(\"\\nTumor Size & Cost of Treatment by Treatment Type:\")\n",
    "\n",
    "oral_cancer_df.groupby('treatment_type')[['tumor_size','cost_of_treatment']].mean()"
   ]
  },
  {
   "cell_type": "markdown",
   "metadata": {},
   "source": [
    "-  1. No Treatment is associated with significantly smaller tumors (0.58 cm) and lower costs (~$12,980).\n",
    "\n",
    "This suggests that patients opting for no treatment likely have early-stage cancer.\n",
    "\n",
    "- 2. Chemotherapy, Radiation, Surgery, and Targeted Therapy have similar tumor sizes (~3.5 cm).\n",
    "\n",
    "This implies that these treatments are used at similar stages of cancer progression (likely moderate to advanced stages).\n",
    "\n",
    "- 3. Radiation has the highest treatment cost (~$78,589), followed by Targeted Therapy ($78,616).\n",
    "\n",
    "Radiation and Targeted Therapy tend to be more expensive, possibly due to longer treatment durations and advanced medical equipment required.\n",
    "\n",
    "Chemotherapy and Surgery are slightly less costly but still expensive (~$78,100 to $78,400).\n",
    "\n"
   ]
  },
  {
   "cell_type": "markdown",
   "metadata": {},
   "source": [
    "Frequency Distribution of the Cancer stages"
   ]
  },
  {
   "cell_type": "code",
   "execution_count": 76,
   "metadata": {},
   "outputs": [
    {
     "name": "stdout",
     "output_type": "stream",
     "text": [
      "\n",
      "Frequency of Cancer Stages:\n",
      "cancer_stage\n",
      "0    42573\n",
      "2    12865\n",
      "1    12713\n",
      "3    10520\n",
      "4     6251\n",
      "Name: count, dtype: int64\n"
     ]
    }
   ],
   "source": [
    "print(\"\\nFrequency of Cancer Stages:\")\n",
    "level_frequency = oral_cancer_df[\"cancer_stage\"].value_counts()\n",
    "\n",
    "print(level_frequency)\n"
   ]
  },
  {
   "cell_type": "markdown",
   "metadata": {},
   "source": [
    "- A significant number of cases (Stage 0) are detected early, which aligns with the high median survival rate (100%) observed in the summary statistics."
   ]
  },
  {
   "cell_type": "markdown",
   "metadata": {},
   "source": [
    "#### Correlation Analysis"
   ]
  },
  {
   "cell_type": "code",
   "execution_count": 77,
   "metadata": {},
   "outputs": [
    {
     "name": "stdout",
     "output_type": "stream",
     "text": [
      "\n",
      "Correlation Matrix:\n",
      "                   survival_rate  cost_of_treatment  economic_burden  \\\n",
      "survival_rate           1.000000          -0.806619        -0.671807   \n",
      "cost_of_treatment      -0.806619           1.000000         0.759583   \n",
      "economic_burden        -0.671807           0.759583         1.000000   \n",
      "tumor_size             -0.669145           0.757527         0.746402   \n",
      "\n",
      "                   tumor_size  \n",
      "survival_rate       -0.669145  \n",
      "cost_of_treatment    0.757527  \n",
      "economic_burden      0.746402  \n",
      "tumor_size           1.000000  \n"
     ]
    }
   ],
   "source": [
    "corr_df = oral_cancer_df[['survival_rate', 'cost_of_treatment', 'economic_burden', 'tumor_size']]\n",
    "corr_matrix = corr_df.corr()\n",
    "print(\"\\nCorrelation Matrix:\")\n",
    "print(corr_matrix)\n"
   ]
  },
  {
   "cell_type": "markdown",
   "metadata": {},
   "source": [
    "1. There is a Strong Negative Correlation Between Survival Rate & Cost of Treatment (-0.81)\n",
    "\n",
    "As treatment costs increase, survival rates tend to decrease.\n",
    "\n",
    "This suggests that late-stage cancer cases (which require expensive treatments like chemotherapy and surgery) have lower survival rates.\n",
    "\n",
    "\n",
    "2. Strong Positive Correlation Between Cost of Treatment & Economic Burden (0.76)\n",
    "\n",
    "Higher treatment costs contribute directly to a higher economic burden.\n",
    "\n",
    "3. Tumor Size is Positively Correlated with Treatment Cost (0.76) and Economic Burden (0.75)\n",
    "\n",
    "as Larger tumors are associated with more expensive treatments"
   ]
  },
  {
   "cell_type": "markdown",
   "metadata": {},
   "source": [
    "### Data Visualization"
   ]
  },
  {
   "cell_type": "markdown",
   "metadata": {},
   "source": [
    "Survival Rate Distribution"
   ]
  },
  {
   "cell_type": "code",
   "execution_count": 78,
   "metadata": {},
   "outputs": [
    {
     "data": {
      "image/png": "[encoded data removed]",
      "text/plain": [
       "<Figure size 576x360 with 1 Axes>"
      ]
     },
     "metadata": {
      "needs_background": "light"
     },
     "output_type": "display_data"
    }
   ],
   "source": [
    "plt.figure(figsize=(8, 5))\n",
    "sns.histplot(oral_cancer_df['survival_rate'], bins=10, kde=True)\n",
    "plt.title('Distribution of Survival Rate')\n",
    "plt.xlabel('Survival Rate (%)')\n",
    "plt.ylabel('Frequency')\n",
    "plt.show()"
   ]
  },
  {
   "cell_type": "markdown",
   "metadata": {},
   "source": [
    "- Most patients have a survival rate above 60%, with a peak around 80-100%."
   ]
  },
  {
   "cell_type": "markdown",
   "metadata": {},
   "source": [
    "Survival Time by Cancer Diagnosis Stage"
   ]
  },
  {
   "cell_type": "code",
   "execution_count": 79,
   "metadata": {},
   "outputs": [
    {
     "data": {
      "image/png": "[encoded data removed]",
      "text/plain": [
       "<Figure size 432x288 with 1 Axes>"
      ]
     },
     "metadata": {
      "needs_background": "light"
     },
     "output_type": "display_data"
    }
   ],
   "source": [
    "\n",
    "sns.boxplot(x=\"cancer_stage\", y=\"survival_rate\", data=oral_cancer_df)\n",
    "plt.title(\"Survival Rate by Diagnosis Stage\")\n",
    "plt.show()"
   ]
  },
  {
   "cell_type": "markdown",
   "metadata": {},
   "source": [
    "- This shows that form the data:\n",
    "    the survival rates decrease with the cancer stages\n"
   ]
  },
  {
   "cell_type": "markdown",
   "metadata": {},
   "source": [
    "Treatment Type Count"
   ]
  },
  {
   "cell_type": "code",
   "execution_count": 80,
   "metadata": {},
   "outputs": [
    {
     "data": {
      "image/png": "[encoded data removed]",
      "text/plain": [
       "<Figure size 432x288 with 1 Axes>"
      ]
     },
     "metadata": {
      "needs_background": "light"
     },
     "output_type": "display_data"
    }
   ],
   "source": [
    "sns.countplot(x=\"treatment_type\", data=oral_cancer_df)\n",
    "plt.title(\"Distribution of Treatment Types\")\n",
    "plt.xticks(rotation=45)\n",
    "plt.show()"
   ]
  },
  {
   "cell_type": "markdown",
   "metadata": {},
   "source": [
    "- A significant number of the patients did not recive treatment, probably as a result of early diagnosis"
   ]
  },
  {
   "cell_type": "markdown",
   "metadata": {},
   "source": [
    "Treatment_type by Survival_Rate"
   ]
  },
  {
   "cell_type": "code",
   "execution_count": 81,
   "metadata": {},
   "outputs": [
    {
     "data": {
      "text/plain": [
       "treatment_type\n",
       "Chemotherapy        58.676756\n",
       "No Treatment        93.216537\n",
       "Radiation           58.984658\n",
       "Surgery             58.754765\n",
       "Targeted Therapy    59.066848\n",
       "Name: survival_rate, dtype: float64"
      ]
     },
     "execution_count": 81,
     "metadata": {},
     "output_type": "execute_result"
    }
   ],
   "source": [
    "oral_cancer_df.groupby('treatment_type')['survival_rate'].mean()"
   ]
  },
  {
   "cell_type": "code",
   "execution_count": 82,
   "metadata": {},
   "outputs": [
    {
     "data": {
      "image/png": "[encoded data removed]",
      "text/plain": [
       "<Figure size 576x360 with 1 Axes>"
      ]
     },
     "metadata": {
      "needs_background": "light"
     },
     "output_type": "display_data"
    }
   ],
   "source": [
    "plt.figure(figsize=(8, 5))\n",
    "sns.barplot(x=oral_cancer_df['treatment_type'], y=oral_cancer_df['survival_rate'])\n",
    "plt.title('Survival Rate by Treatment Type')\n",
    "plt.xlabel('Treatment Type')\n",
    "plt.ylabel('Survival Rate (%)')\n",
    "plt.xticks(rotation=45)\n",
    "plt.show()"
   ]
  },
  {
   "cell_type": "markdown",
   "metadata": {},
   "source": [
    "- Focusing on the patients who recieved treatment, Targeted Therapy shows a significantly small difference but  higher impact on survival rate"
   ]
  },
  {
   "cell_type": "markdown",
   "metadata": {},
   "source": [
    "Heatmap"
   ]
  },
  {
   "cell_type": "code",
   "execution_count": 83,
   "metadata": {},
   "outputs": [
    {
     "data": {
      "image/png": "[encoded data removed]",
      "text/plain": [
       "<Figure size 720x432 with 2 Axes>"
      ]
     },
     "metadata": {
      "needs_background": "light"
     },
     "output_type": "display_data"
    }
   ],
   "source": [
    "\n",
    "plt.figure(figsize=(10, 6))\n",
    "corr = oral_cancer_df[['survival_rate', 'cost_of_treatment', 'economic_burden', 'tumor_size']].corr()\n",
    "sns.heatmap(corr, annot=True, cmap='coolwarm')\n",
    "plt.title('Correlation Heatmap')\n",
    "plt.show()"
   ]
  },
  {
   "cell_type": "markdown",
   "metadata": {},
   "source": [
    "- The Cost of treatment and economic burden are HIGHLY correlated\n",
    "\n",
    "- Larger tumor sizes generally correlate with lower survival rates.\n"
   ]
  },
  {
   "cell_type": "markdown",
   "metadata": {},
   "source": [
    "Economic Burden by Treatment Type"
   ]
  },
  {
   "cell_type": "code",
   "execution_count": 84,
   "metadata": {},
   "outputs": [
    {
     "data": {
      "image/png": "[encoded data removed]",
      "text/plain": [
       "<Figure size 432x288 with 1 Axes>"
      ]
     },
     "metadata": {
      "needs_background": "light"
     },
     "output_type": "display_data"
    }
   ],
   "source": [
    "\n",
    "sns.violinplot(x=\"treatment_type\", y=\"economic_burden\", data=oral_cancer_df)\n",
    "plt.title(\"Economic Burden by Treatment Type\")\n",
    "plt.xticks(rotation=45)\n",
    "plt.show()\n"
   ]
  },
  {
   "cell_type": "code",
   "execution_count": 85,
   "metadata": {},
   "outputs": [
    {
     "data": {
      "image/png": "[encoded data removed]",
      "text/plain": [
       "<Figure size 576x360 with 1 Axes>"
      ]
     },
     "metadata": {
      "needs_background": "light"
     },
     "output_type": "display_data"
    }
   ],
   "source": [
    "plt.figure(figsize=(8, 5))\n",
    "sns.lineplot(x=oral_cancer_df['cancer_stage'], y=oral_cancer_df['cost_of_treatment'], marker='o')\n",
    "plt.title('Cost of Treatment by Cancer Stage')\n",
    "plt.xlabel('Cancer Stage')\n",
    "plt.ylabel('Cost of Treatment (USD)')\n",
    "plt.show()"
   ]
  },
  {
   "cell_type": "markdown",
   "metadata": {},
   "source": [
    "- Higher cancer stages lead to significantly higher treatment costs."
   ]
  },
  {
   "cell_type": "code",
   "execution_count": 86,
   "metadata": {},
   "outputs": [
    {
     "data": {
      "text/html": [
       "<div>\n",
       "<style scoped>\n",
       "    .dataframe tbody tr th:only-of-type {\n",
       "        vertical-align: middle;\n",
       "    }\n",
       "\n",
       "    .dataframe tbody tr th {\n",
       "        vertical-align: top;\n",
       "    }\n",
       "\n",
       "    .dataframe thead th {\n",
       "        text-align: right;\n",
       "    }\n",
       "</style>\n",
       "<table border=\"1\" class=\"dataframe\">\n",
       "  <thead>\n",
       "    <tr style=\"text-align: right;\">\n",
       "      <th></th>\n",
       "      <th>id</th>\n",
       "      <th>country</th>\n",
       "      <th>age</th>\n",
       "      <th>gender</th>\n",
       "      <th>tobacco_use</th>\n",
       "      <th>alcohol_consumption</th>\n",
       "      <th>hpv_infection</th>\n",
       "      <th>betel_quid_use</th>\n",
       "      <th>chronic_sun_exposure</th>\n",
       "      <th>poor_oral_hygiene</th>\n",
       "      <th>...</th>\n",
       "      <th>difficulty_swallowing</th>\n",
       "      <th>white_or_red_patches_in_mouth</th>\n",
       "      <th>tumor_size</th>\n",
       "      <th>cancer_stage</th>\n",
       "      <th>treatment_type</th>\n",
       "      <th>survival_rate</th>\n",
       "      <th>cost_of_treatment</th>\n",
       "      <th>economic_burden</th>\n",
       "      <th>early_diagnosis</th>\n",
       "      <th>diagnosis</th>\n",
       "    </tr>\n",
       "  </thead>\n",
       "  <tbody>\n",
       "    <tr>\n",
       "      <th>0</th>\n",
       "      <td>1</td>\n",
       "      <td>Italy</td>\n",
       "      <td>36</td>\n",
       "      <td>Female</td>\n",
       "      <td>Yes</td>\n",
       "      <td>Yes</td>\n",
       "      <td>Yes</td>\n",
       "      <td>No</td>\n",
       "      <td>No</td>\n",
       "      <td>Yes</td>\n",
       "      <td>...</td>\n",
       "      <td>No</td>\n",
       "      <td>No</td>\n",
       "      <td>0.00</td>\n",
       "      <td>0</td>\n",
       "      <td>No Treatment</td>\n",
       "      <td>100.00</td>\n",
       "      <td>0.00</td>\n",
       "      <td>0</td>\n",
       "      <td>No</td>\n",
       "      <td>No</td>\n",
       "    </tr>\n",
       "    <tr>\n",
       "      <th>1</th>\n",
       "      <td>2</td>\n",
       "      <td>Japan</td>\n",
       "      <td>64</td>\n",
       "      <td>Male</td>\n",
       "      <td>Yes</td>\n",
       "      <td>Yes</td>\n",
       "      <td>Yes</td>\n",
       "      <td>No</td>\n",
       "      <td>Yes</td>\n",
       "      <td>Yes</td>\n",
       "      <td>...</td>\n",
       "      <td>No</td>\n",
       "      <td>No</td>\n",
       "      <td>1.78</td>\n",
       "      <td>1</td>\n",
       "      <td>No Treatment</td>\n",
       "      <td>83.34</td>\n",
       "      <td>77772.50</td>\n",
       "      <td>177</td>\n",
       "      <td>No</td>\n",
       "      <td>Yes</td>\n",
       "    </tr>\n",
       "    <tr>\n",
       "      <th>2</th>\n",
       "      <td>3</td>\n",
       "      <td>UK</td>\n",
       "      <td>37</td>\n",
       "      <td>Female</td>\n",
       "      <td>No</td>\n",
       "      <td>Yes</td>\n",
       "      <td>No</td>\n",
       "      <td>No</td>\n",
       "      <td>Yes</td>\n",
       "      <td>Yes</td>\n",
       "      <td>...</td>\n",
       "      <td>No</td>\n",
       "      <td>Yes</td>\n",
       "      <td>3.52</td>\n",
       "      <td>2</td>\n",
       "      <td>Surgery</td>\n",
       "      <td>63.22</td>\n",
       "      <td>101164.50</td>\n",
       "      <td>130</td>\n",
       "      <td>Yes</td>\n",
       "      <td>Yes</td>\n",
       "    </tr>\n",
       "    <tr>\n",
       "      <th>3</th>\n",
       "      <td>4</td>\n",
       "      <td>Sri Lanka</td>\n",
       "      <td>55</td>\n",
       "      <td>Male</td>\n",
       "      <td>Yes</td>\n",
       "      <td>Yes</td>\n",
       "      <td>No</td>\n",
       "      <td>Yes</td>\n",
       "      <td>No</td>\n",
       "      <td>Yes</td>\n",
       "      <td>...</td>\n",
       "      <td>No</td>\n",
       "      <td>No</td>\n",
       "      <td>0.00</td>\n",
       "      <td>0</td>\n",
       "      <td>No Treatment</td>\n",
       "      <td>100.00</td>\n",
       "      <td>0.00</td>\n",
       "      <td>0</td>\n",
       "      <td>Yes</td>\n",
       "      <td>No</td>\n",
       "    </tr>\n",
       "    <tr>\n",
       "      <th>4</th>\n",
       "      <td>5</td>\n",
       "      <td>South Africa</td>\n",
       "      <td>68</td>\n",
       "      <td>Male</td>\n",
       "      <td>No</td>\n",
       "      <td>No</td>\n",
       "      <td>No</td>\n",
       "      <td>No</td>\n",
       "      <td>No</td>\n",
       "      <td>Yes</td>\n",
       "      <td>...</td>\n",
       "      <td>No</td>\n",
       "      <td>No</td>\n",
       "      <td>2.83</td>\n",
       "      <td>3</td>\n",
       "      <td>No Treatment</td>\n",
       "      <td>44.29</td>\n",
       "      <td>45354.75</td>\n",
       "      <td>52</td>\n",
       "      <td>No</td>\n",
       "      <td>Yes</td>\n",
       "    </tr>\n",
       "  </tbody>\n",
       "</table>\n",
       "<p>5 rows × 25 columns</p>\n",
       "</div>"
      ],
      "text/plain": [
       "   id       country  age  gender tobacco_use alcohol_consumption  \\\n",
       "0   1         Italy   36  Female         Yes                 Yes   \n",
       "1   2         Japan   64    Male         Yes                 Yes   \n",
       "2   3            UK   37  Female          No                 Yes   \n",
       "3   4     Sri Lanka   55    Male         Yes                 Yes   \n",
       "4   5  South Africa   68    Male          No                  No   \n",
       "\n",
       "  hpv_infection betel_quid_use chronic_sun_exposure poor_oral_hygiene  ...  \\\n",
       "0           Yes             No                   No               Yes  ...   \n",
       "1           Yes             No                  Yes               Yes  ...   \n",
       "2            No             No                  Yes               Yes  ...   \n",
       "3            No            Yes                   No               Yes  ...   \n",
       "4            No             No                   No               Yes  ...   \n",
       "\n",
       "  difficulty_swallowing white_or_red_patches_in_mouth tumor_size cancer_stage  \\\n",
       "0                    No                            No       0.00            0   \n",
       "1                    No                            No       1.78            1   \n",
       "2                    No                           Yes       3.52            2   \n",
       "3                    No                            No       0.00            0   \n",
       "4                    No                            No       2.83            3   \n",
       "\n",
       "  treatment_type survival_rate cost_of_treatment  economic_burden  \\\n",
       "0   No Treatment        100.00              0.00                0   \n",
       "1   No Treatment         83.34          77772.50              177   \n",
       "2        Surgery         63.22         101164.50              130   \n",
       "3   No Treatment        100.00              0.00                0   \n",
       "4   No Treatment         44.29          45354.75               52   \n",
       "\n",
       "   early_diagnosis diagnosis  \n",
       "0               No        No  \n",
       "1               No       Yes  \n",
       "2              Yes       Yes  \n",
       "3              Yes        No  \n",
       "4               No       Yes  \n",
       "\n",
       "[5 rows x 25 columns]"
      ]
     },
     "execution_count": 86,
     "metadata": {},
     "output_type": "execute_result"
    }
   ],
   "source": [
    "oral_cancer_df.head()"
   ]
  },
  {
   "cell_type": "markdown",
   "metadata": {},
   "source": [
    "<!-- Logistic Regression -->"
   ]
  },
  {
   "cell_type": "markdown",
   "metadata": {},
   "source": [
    "### Regression Models\n",
    "\n",
    "-- Predict survival rates.\n",
    "\n",
    "-- Random Forest, Linear Regression and Gradient Boosting\n",
    "\n",
    "-- Diagnose oral cancer  survival rates based on tumor size, cancer stage, early diagnosis, treatment type, diagnosis, cost of treatment, economic burden"
   ]
  },
  {
   "cell_type": "code",
   "execution_count": 120,
   "metadata": {},
   "outputs": [],
   "source": [
    "from sklearn.model_selection import train_test_split\n",
    "\n",
    "# 1\n",
    "from sklearn.ensemble import RandomForestRegressor\n",
    "from sklearn.metrics import mean_absolute_error, r2_score, mean_squared_error\n",
    "# 2\n",
    "from sklearn.linear_model import LinearRegression\n",
    "# 3\n",
    "from sklearn.ensemble import GradientBoostingRegressor\n",
    "\n",
    "\n",
    "import matplotlib.pyplot as plt\n",
    "from sklearn.preprocessing import LabelEncoder"
   ]
  },
  {
   "cell_type": "code",
   "execution_count": 129,
   "metadata": {},
   "outputs": [],
   "source": [
    "# convert categorical variables to numerical values\n",
    "label_encoder = LabelEncoder()\n",
    "for col in ['treatment_type', 'early_diagnosis','diagnosis']:\n",
    "    oral_cancer_df[col] = label_encoder.fit_transform(oral_cancer_df[col])\n",
    "\n",
    "# defining the features and the target\n",
    "features = ['tumor_size', 'cancer_stage', 'treatment_type', 'early_diagnosis','cost_of_treatment', 'economic_burden', 'diagnosis']\n",
    "target = 'survival_rate'\n",
    "\n",
    "\n",
    "# split the data into training and testing data\n",
    "X_train, X_test, y_train, y_test = train_test_split(oral_cancer_df[features], oral_cancer_df[target], test_size=0.2, random_state=42)\n",
    "\n"
   ]
  },
  {
   "cell_type": "markdown",
   "metadata": {},
   "source": [
    "`1. Linear Regression`"
   ]
  },
  {
   "cell_type": "code",
   "execution_count": 130,
   "metadata": {},
   "outputs": [
    {
     "name": "stdout",
     "output_type": "stream",
     "text": [
      "\n",
      "Mean Squared Error: 12.96\n",
      "R-squared: 0.98\n"
     ]
    }
   ],
   "source": [
    "# initialize and train the linear regresion model\n",
    "lr_model = LinearRegression()\n",
    "lr_model.fit(X_train, y_train)\n",
    "\n",
    "# Make predictions\n",
    "y_pred = lr_model.predict(X_test)\n",
    "\n",
    "\n",
    "# evaluate the model\n",
    "mse = mean_squared_error(y_test, y_pred)\n",
    "r2 = r2_score(y_test,y_pred)\n",
    "\n",
    "\n",
    "print(f\"\\nMean Squared Error: {mse:.2f}\")\n",
    "print(f\"R-squared: {r2:.2f}\")\n"
   ]
  },
  {
   "cell_type": "markdown",
   "metadata": {},
   "source": [
    "Actual Vs Predicted Plot"
   ]
  },
  {
   "cell_type": "code",
   "execution_count": 131,
   "metadata": {},
   "outputs": [
    {
     "data": {
      "image/png": "[encoded data removed]",
      "text/plain": [
       "<Figure size 720x432 with 1 Axes>"
      ]
     },
     "metadata": {
      "needs_background": "light"
     },
     "output_type": "display_data"
    }
   ],
   "source": [
    "plt.figure(figsize=(10,6))\n",
    "plt.scatter(y_test, y_pred)\n",
    "plt.xlabel(\"Actual Survival Rate\")\n",
    "plt.ylabel(\"Predicted Survival Rate\")\n",
    "\n",
    "plt.title(\"Linear Regression: Actual Vs Predicted Survival Rate\")\n",
    "plt.show()"
   ]
  },
  {
   "cell_type": "markdown",
   "metadata": {},
   "source": [
    "`2. Random Forest Regression`"
   ]
  },
  {
   "cell_type": "code",
   "execution_count": 132,
   "metadata": {},
   "outputs": [
    {
     "name": "stdout",
     "output_type": "stream",
     "text": [
      "\n",
      "Mean Squared Error: 11.42\n",
      "R-squared: 0.98\n"
     ]
    }
   ],
   "source": [
    "# initialize the random forest regressor\n",
    "rf_model = RandomForestRegressor(n_estimators=100, random_state=42)\n",
    "rf_model.fit(X_train, y_train)\n",
    "\n",
    "\n",
    "# make prediction on the test set\n",
    "y_pred = rf_model.predict(X_test)\n",
    "\n",
    "# Evaluate the model\n",
    "mse = mean_squared_error(y_test, y_pred)\n",
    "r2 = r2_score(y_test, y_pred)\n",
    "\n",
    "print(f\"\\nMean Squared Error: {mse:.2f}\")\n",
    "\n",
    "\n",
    "print(f\"R-squared: {r2:.2f}\")"
   ]
  },
  {
   "cell_type": "markdown",
   "metadata": {},
   "source": [
    "The MSE AND R2 show that the model is performing very well on the given data.\n",
    "\n",
    "- An mse of 14.26 means that, on average the squared difference between the predicted and actual survival rates is 14.26. Based on my target variable scale - survival_rate(%), the lower MSE indicates better model accuracy\n",
    "\n",
    "\n",
    "- An r2 of 0.98 indicates that 98% of the variance in the survival rates is explained by the model. This very high value suggests that the model captures almost all variability in the data. (possible overfiitting - thae model may be too closely tailorred to the training data and may not perform well on new independent set of data)"
   ]
  },
  {
   "cell_type": "markdown",
   "metadata": {},
   "source": [
    "Feature Importance"
   ]
  },
  {
   "cell_type": "code",
   "execution_count": null,
   "metadata": {},
   "outputs": [
    {
     "data": {
      "image/png": "[encoded data removed]",
      "text/plain": [
       "<Figure size 720x432 with 1 Axes>"
      ]
     },
     "metadata": {
      "needs_background": "light"
     },
     "output_type": "display_data"
    }
   ],
   "source": [
    "feature_importance_rf = rf_model.feature_importances_\n",
    "\n",
    "# plot the grapgh\n",
    "plt.figure(figsize=(10,6))\n",
    "plt.bar(features, feature_importance_rf)\n",
    "plt.xlabel('Features')\n",
    "plt.ylabel('Importance')\n",
    "\n",
    "plt.title('Feature Importance in the Random Forest Model')\n",
    "plt.xticks(rotation=45)\n",
    "plt.tight_layout()\n",
    "\n",
    "plt.show()"
   ]
  },
  {
   "cell_type": "markdown",
   "metadata": {},
   "source": [
    "`3. Gradient Boosting`"
   ]
  },
  {
   "cell_type": "code",
   "execution_count": 136,
   "metadata": {},
   "outputs": [
    {
     "name": "stdout",
     "output_type": "stream",
     "text": [
      "\n",
      "Mean Squared Error: 10.77\n",
      "R-squared: 0.98\n"
     ]
    }
   ],
   "source": [
    "# initiliaze and train the Gradient Boosting Regressor\n",
    "gbr_model = GradientBoostingRegressor(n_estimators=100, learning_rate=0.1, max_depth=3, random_state=42)\n",
    "\n",
    "gbr_model.fit(X_train, y_train)\n",
    "\n",
    "# make predictions for the model\n",
    "y_pred = gbr_model.predict(X_test)\n",
    "\n",
    "# evaluate the model\n",
    "mse = mean_squared_error(y_test, y_pred)\n",
    "r2 = r2_score(y_test, y_pred)\n",
    "\n",
    "\n",
    "print(f\"\\nMean Squared Error: {mse:.2f}\")\n",
    "print(f\"R-squared: {r2:.2f}\")"
   ]
  },
  {
   "cell_type": "markdown",
   "metadata": {},
   "source": [
    "Feature Importance"
   ]
  },
  {
   "cell_type": "code",
   "execution_count": 137,
   "metadata": {},
   "outputs": [
    {
     "data": {
      "image/png": "[encoded data removed]",
      "text/plain": [
       "<Figure size 720x432 with 1 Axes>"
      ]
     },
     "metadata": {
      "needs_background": "light"
     },
     "output_type": "display_data"
    }
   ],
   "source": [
    "# features importance\n",
    "feature_importance_gr = gbr_model.feature_importances_\n",
    "\n",
    "plt.figure(figsize=(10,6))\n",
    "plt.bar(features, feature_importance_gr)\n",
    "plt.xlabel('Features')\n",
    "plt.ylabel('Importance')\n",
    "plt.title('Feature Importances in Gradient Boosting Model')\n",
    "plt.xticks(rotation=45, ha='right')\n",
    "plt.tight_layout()\n",
    "plt.show()"
   ]
  },
  {
   "cell_type": "markdown",
   "metadata": {},
   "source": [
    "#### Conclusion\n",
    "Linear Regression, Random Forest Regression, and Gradient Boosting Regression—perform well, as evidenced by their high R-squared values of 0.98. This suggests that 98% of the variance in the target variable is explained by the predictors in each model. The Mean Squared Error (MSE) values, which measure the average squared differences between actual and predicted values, vary slightly across the models. Linear Regression has the highest MSE at 12.96, followed by Random Forest Regression at 11.42, while Gradient Boosting Regression has the lowest MSE at 10.77. A lower MSE indicates better predictive accuracy, as it suggests that the model’s predictions are closer to the actual values.\n",
    "\n",
    "Gradient Boosting Regression is the best-performing model based on its lowest MSE, meaning it makes the most accurate predictions with minimal errors. While all models exhibit strong predictive power, Gradient Boosting’s iterative approach of correcting previous errors leads to improved performance over the others.Therefore, Gradient Boosting Regression is the recommended model for making predictions on this dataset."
   ]
  }
 ],
 "metadata": {
  "kernelspec": {
   "display_name": "learn-env",
   "language": "python",
   "name": "learn-env"
  },
  "language_info": {
   "codemirror_mode": {
    "name": "ipython",
    "version": 3
   },
   "file_extension": ".py",
   "mimetype": "text/x-python",
   "name": "python",
   "nbconvert_exporter": "python",
   "pygments_lexer": "ipython3",
   "version": "3.8.5"
  }
 },
 "nbformat": 4,
 "nbformat_minor": 2
}
